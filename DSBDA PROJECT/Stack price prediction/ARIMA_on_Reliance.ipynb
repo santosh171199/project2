{
 "cells": [
  {
   "cell_type": "markdown",
   "metadata": {},
   "source": [
    "### Reading the market data of BAJAJFINSV stock and preparing a training dataset and validation dataset."
   ]
  },
  {
   "cell_type": "code",
   "execution_count": 4,
   "metadata": {},
   "outputs": [],
   "source": [
    "import pandas as pd\n",
    "import numpy as np"
   ]
  },
  {
   "cell_type": "code",
   "execution_count": 5,
   "metadata": {},
   "outputs": [
    {
     "data": {
      "text/html": [
       "<div>\n",
       "<style scoped>\n",
       "    .dataframe tbody tr th:only-of-type {\n",
       "        vertical-align: middle;\n",
       "    }\n",
       "\n",
       "    .dataframe tbody tr th {\n",
       "        vertical-align: top;\n",
       "    }\n",
       "\n",
       "    .dataframe thead th {\n",
       "        text-align: right;\n",
       "    }\n",
       "</style>\n",
       "<table border=\"1\" class=\"dataframe\">\n",
       "  <thead>\n",
       "    <tr style=\"text-align: right;\">\n",
       "      <th></th>\n",
       "      <th>Date</th>\n",
       "      <th>Symbol</th>\n",
       "      <th>Series</th>\n",
       "      <th>Prev Close</th>\n",
       "      <th>Open</th>\n",
       "      <th>High</th>\n",
       "      <th>Low</th>\n",
       "      <th>Last</th>\n",
       "      <th>Close</th>\n",
       "      <th>VWAP</th>\n",
       "      <th>Volume</th>\n",
       "      <th>Turnover</th>\n",
       "      <th>Trades</th>\n",
       "      <th>Deliverable Volume</th>\n",
       "      <th>%Deliverble</th>\n",
       "    </tr>\n",
       "  </thead>\n",
       "  <tbody>\n",
       "    <tr>\n",
       "      <th>0</th>\n",
       "      <td>2000-01-03</td>\n",
       "      <td>RELIANCE</td>\n",
       "      <td>EQ</td>\n",
       "      <td>233.05</td>\n",
       "      <td>237.50</td>\n",
       "      <td>251.70</td>\n",
       "      <td>237.50</td>\n",
       "      <td>251.70</td>\n",
       "      <td>251.70</td>\n",
       "      <td>249.37</td>\n",
       "      <td>4456424</td>\n",
       "      <td>1.111319e+14</td>\n",
       "      <td>NaN</td>\n",
       "      <td>NaN</td>\n",
       "      <td>NaN</td>\n",
       "    </tr>\n",
       "    <tr>\n",
       "      <th>1</th>\n",
       "      <td>2000-01-04</td>\n",
       "      <td>RELIANCE</td>\n",
       "      <td>EQ</td>\n",
       "      <td>251.70</td>\n",
       "      <td>258.40</td>\n",
       "      <td>271.85</td>\n",
       "      <td>251.30</td>\n",
       "      <td>271.85</td>\n",
       "      <td>271.85</td>\n",
       "      <td>263.52</td>\n",
       "      <td>9487878</td>\n",
       "      <td>2.500222e+14</td>\n",
       "      <td>NaN</td>\n",
       "      <td>NaN</td>\n",
       "      <td>NaN</td>\n",
       "    </tr>\n",
       "    <tr>\n",
       "      <th>2</th>\n",
       "      <td>2000-01-05</td>\n",
       "      <td>RELIANCE</td>\n",
       "      <td>EQ</td>\n",
       "      <td>271.85</td>\n",
       "      <td>256.65</td>\n",
       "      <td>287.90</td>\n",
       "      <td>256.65</td>\n",
       "      <td>286.75</td>\n",
       "      <td>282.50</td>\n",
       "      <td>274.79</td>\n",
       "      <td>26833684</td>\n",
       "      <td>7.373697e+14</td>\n",
       "      <td>NaN</td>\n",
       "      <td>NaN</td>\n",
       "      <td>NaN</td>\n",
       "    </tr>\n",
       "    <tr>\n",
       "      <th>3</th>\n",
       "      <td>2000-01-06</td>\n",
       "      <td>RELIANCE</td>\n",
       "      <td>EQ</td>\n",
       "      <td>282.50</td>\n",
       "      <td>289.00</td>\n",
       "      <td>300.70</td>\n",
       "      <td>289.00</td>\n",
       "      <td>293.50</td>\n",
       "      <td>294.35</td>\n",
       "      <td>295.45</td>\n",
       "      <td>15682286</td>\n",
       "      <td>4.633254e+14</td>\n",
       "      <td>NaN</td>\n",
       "      <td>NaN</td>\n",
       "      <td>NaN</td>\n",
       "    </tr>\n",
       "    <tr>\n",
       "      <th>4</th>\n",
       "      <td>2000-01-07</td>\n",
       "      <td>RELIANCE</td>\n",
       "      <td>EQ</td>\n",
       "      <td>294.35</td>\n",
       "      <td>295.00</td>\n",
       "      <td>317.90</td>\n",
       "      <td>293.00</td>\n",
       "      <td>314.50</td>\n",
       "      <td>314.55</td>\n",
       "      <td>308.91</td>\n",
       "      <td>19870977</td>\n",
       "      <td>6.138388e+14</td>\n",
       "      <td>NaN</td>\n",
       "      <td>NaN</td>\n",
       "      <td>NaN</td>\n",
       "    </tr>\n",
       "  </tbody>\n",
       "</table>\n",
       "</div>"
      ],
      "text/plain": [
       "         Date    Symbol Series  Prev Close    Open    High     Low    Last  \\\n",
       "0  2000-01-03  RELIANCE     EQ      233.05  237.50  251.70  237.50  251.70   \n",
       "1  2000-01-04  RELIANCE     EQ      251.70  258.40  271.85  251.30  271.85   \n",
       "2  2000-01-05  RELIANCE     EQ      271.85  256.65  287.90  256.65  286.75   \n",
       "3  2000-01-06  RELIANCE     EQ      282.50  289.00  300.70  289.00  293.50   \n",
       "4  2000-01-07  RELIANCE     EQ      294.35  295.00  317.90  293.00  314.50   \n",
       "\n",
       "    Close    VWAP    Volume      Turnover  Trades  Deliverable Volume  \\\n",
       "0  251.70  249.37   4456424  1.111319e+14     NaN                 NaN   \n",
       "1  271.85  263.52   9487878  2.500222e+14     NaN                 NaN   \n",
       "2  282.50  274.79  26833684  7.373697e+14     NaN                 NaN   \n",
       "3  294.35  295.45  15682286  4.633254e+14     NaN                 NaN   \n",
       "4  314.55  308.91  19870977  6.138388e+14     NaN                 NaN   \n",
       "\n",
       "   %Deliverble  \n",
       "0          NaN  \n",
       "1          NaN  \n",
       "2          NaN  \n",
       "3          NaN  \n",
       "4          NaN  "
      ]
     },
     "execution_count": 5,
     "metadata": {},
     "output_type": "execute_result"
    }
   ],
   "source": [
    "df=pd.read_csv('./RELIANCE.csv')\n",
    "df.head()"
   ]
  },
  {
   "cell_type": "code",
   "execution_count": null,
   "metadata": {},
   "outputs": [],
   "source": []
  },
  {
   "cell_type": "code",
   "execution_count": 6,
   "metadata": {},
   "outputs": [],
   "source": [
    "df.set_index('Date',inplace=True)"
   ]
  },
  {
   "cell_type": "code",
   "execution_count": null,
   "metadata": {},
   "outputs": [],
   "source": []
  },
  {
   "cell_type": "markdown",
   "metadata": {},
   "source": [
    "#### Plotting the target variable VWAP over time"
   ]
  },
  {
   "cell_type": "code",
   "execution_count": 7,
   "metadata": {},
   "outputs": [
    {
     "data": {
      "text/plain": [
       "<AxesSubplot:xlabel='Date'>"
      ]
     },
     "execution_count": 7,
     "metadata": {},
     "output_type": "execute_result"
    },
    {
     "data": {
      "image/png": "[encoded data removed]",
      "text/plain": [
       "<Figure size 432x288 with 1 Axes>"
      ]
     },
     "metadata": {
      "needs_background": "light"
     },
     "output_type": "display_data"
    }
   ],
   "source": [
    "df['VWAP'].plot()"
   ]
  },
  {
   "cell_type": "markdown",
   "metadata": {},
   "source": [
    "### so u can observe here some kind of Seasonality"
   ]
  },
  {
   "cell_type": "raw",
   "metadata": {},
   "source": [
    "Feature Engineering\n",
    "Almost every time series problem will have some external features or some internal feature engineering to help the model.\n",
    "\n",
    "Let's add some basic features like lag values of available numeric features that are widely used for time series problems. Since we need to predict the price of the stock for a day, we cannot use the feature values of the same day since they will be unavailable at actual inference time. We need to use statistics like mean, standard deviation of their lagged values.\n",
    "\n",
    "We will use three sets of lagged values, one previous day, one looking back 7 days and another looking back 30 days as a proxy for last week and last month metrics."
   ]
  },
  {
   "cell_type": "markdown",
   "metadata": {},
   "source": [
    "### Data Pre-Processing"
   ]
  },
  {
   "cell_type": "code",
   "execution_count": 8,
   "metadata": {},
   "outputs": [
    {
     "data": {
      "text/plain": [
       "(5306, 14)"
      ]
     },
     "execution_count": 8,
     "metadata": {},
     "output_type": "execute_result"
    }
   ],
   "source": [
    "df.shape"
   ]
  },
  {
   "cell_type": "code",
   "execution_count": 9,
   "metadata": {},
   "outputs": [
    {
     "data": {
      "text/plain": [
       "Symbol                   0\n",
       "Series                   0\n",
       "Prev Close               0\n",
       "Open                     0\n",
       "High                     0\n",
       "Low                      0\n",
       "Last                     0\n",
       "Close                    0\n",
       "VWAP                     0\n",
       "Volume                   0\n",
       "Turnover                 0\n",
       "Trades                2850\n",
       "Deliverable Volume     514\n",
       "%Deliverble            514\n",
       "dtype: int64"
      ]
     },
     "execution_count": 9,
     "metadata": {},
     "output_type": "execute_result"
    }
   ],
   "source": [
    "df.isna().sum()"
   ]
  },
  {
   "cell_type": "code",
   "execution_count": 10,
   "metadata": {},
   "outputs": [],
   "source": [
    "df.dropna(inplace=True)"
   ]
  },
  {
   "cell_type": "code",
   "execution_count": 11,
   "metadata": {},
   "outputs": [
    {
     "data": {
      "text/plain": [
       "Symbol                0\n",
       "Series                0\n",
       "Prev Close            0\n",
       "Open                  0\n",
       "High                  0\n",
       "Low                   0\n",
       "Last                  0\n",
       "Close                 0\n",
       "VWAP                  0\n",
       "Volume                0\n",
       "Turnover              0\n",
       "Trades                0\n",
       "Deliverable Volume    0\n",
       "%Deliverble           0\n",
       "dtype: int64"
      ]
     },
     "execution_count": 11,
     "metadata": {},
     "output_type": "execute_result"
    }
   ],
   "source": [
    "df.isna().sum()"
   ]
  },
  {
   "cell_type": "code",
   "execution_count": 12,
   "metadata": {},
   "outputs": [
    {
     "data": {
      "text/plain": [
       "(2456, 14)"
      ]
     },
     "execution_count": 12,
     "metadata": {},
     "output_type": "execute_result"
    }
   ],
   "source": [
    "df.shape"
   ]
  },
  {
   "cell_type": "code",
   "execution_count": 13,
   "metadata": {},
   "outputs": [],
   "source": [
    "data=df.copy()"
   ]
  },
  {
   "cell_type": "code",
   "execution_count": 14,
   "metadata": {},
   "outputs": [
    {
     "data": {
      "text/plain": [
       "Symbol                 object\n",
       "Series                 object\n",
       "Prev Close            float64\n",
       "Open                  float64\n",
       "High                  float64\n",
       "Low                   float64\n",
       "Last                  float64\n",
       "Close                 float64\n",
       "VWAP                  float64\n",
       "Volume                  int64\n",
       "Turnover              float64\n",
       "Trades                float64\n",
       "Deliverable Volume    float64\n",
       "%Deliverble           float64\n",
       "dtype: object"
      ]
     },
     "execution_count": 14,
     "metadata": {},
     "output_type": "execute_result"
    }
   ],
   "source": [
    "data.dtypes"
   ]
  },
  {
   "cell_type": "code",
   "execution_count": 15,
   "metadata": {},
   "outputs": [
    {
     "data": {
      "text/plain": [
       "Index(['Symbol', 'Series', 'Prev Close', 'Open', 'High', 'Low', 'Last',\n",
       "       'Close', 'VWAP', 'Volume', 'Turnover', 'Trades', 'Deliverable Volume',\n",
       "       '%Deliverble'],\n",
       "      dtype='object')"
      ]
     },
     "execution_count": 15,
     "metadata": {},
     "output_type": "execute_result"
    }
   ],
   "source": [
    "data.columns"
   ]
  },
  {
   "cell_type": "code",
   "execution_count": 16,
   "metadata": {},
   "outputs": [],
   "source": [
    "lag_features=['High','Low','Volume','Turnover','Trades']\n",
    "window1=3\n",
    "window2=7"
   ]
  },
  {
   "cell_type": "code",
   "execution_count": 17,
   "metadata": {},
   "outputs": [],
   "source": [
    "for feature in lag_features:\n",
    "    data[feature+'rolling_mean_3']=data[feature].rolling(window=window1).mean()\n",
    "    data[feature+'rolling_mean_7']=data[feature].rolling(window=window2).mean()"
   ]
  },
  {
   "cell_type": "code",
   "execution_count": 18,
   "metadata": {},
   "outputs": [],
   "source": [
    "for feature in lag_features:\n",
    "    data[feature+'rolling_std_3']=data[feature].rolling(window=window1).std()\n",
    "    data[feature+'rolling_std_7']=data[feature].rolling(window=window2).std()"
   ]
  },
  {
   "cell_type": "markdown",
   "metadata": {},
   "source": []
  },
  {
   "cell_type": "code",
   "execution_count": 19,
   "metadata": {},
   "outputs": [
    {
     "data": {
      "text/html": [
       "<div>\n",
       "<style scoped>\n",
       "    .dataframe tbody tr th:only-of-type {\n",
       "        vertical-align: middle;\n",
       "    }\n",
       "\n",
       "    .dataframe tbody tr th {\n",
       "        vertical-align: top;\n",
       "    }\n",
       "\n",
       "    .dataframe thead th {\n",
       "        text-align: right;\n",
       "    }\n",
       "</style>\n",
       "<table border=\"1\" class=\"dataframe\">\n",
       "  <thead>\n",
       "    <tr style=\"text-align: right;\">\n",
       "      <th></th>\n",
       "      <th>Symbol</th>\n",
       "      <th>Series</th>\n",
       "      <th>Prev Close</th>\n",
       "      <th>Open</th>\n",
       "      <th>High</th>\n",
       "      <th>Low</th>\n",
       "      <th>Last</th>\n",
       "      <th>Close</th>\n",
       "      <th>VWAP</th>\n",
       "      <th>Volume</th>\n",
       "      <th>...</th>\n",
       "      <th>Highrolling_std_3</th>\n",
       "      <th>Highrolling_std_7</th>\n",
       "      <th>Lowrolling_std_3</th>\n",
       "      <th>Lowrolling_std_7</th>\n",
       "      <th>Volumerolling_std_3</th>\n",
       "      <th>Volumerolling_std_7</th>\n",
       "      <th>Turnoverrolling_std_3</th>\n",
       "      <th>Turnoverrolling_std_7</th>\n",
       "      <th>Tradesrolling_std_3</th>\n",
       "      <th>Tradesrolling_std_7</th>\n",
       "    </tr>\n",
       "    <tr>\n",
       "      <th>Date</th>\n",
       "      <th></th>\n",
       "      <th></th>\n",
       "      <th></th>\n",
       "      <th></th>\n",
       "      <th></th>\n",
       "      <th></th>\n",
       "      <th></th>\n",
       "      <th></th>\n",
       "      <th></th>\n",
       "      <th></th>\n",
       "      <th></th>\n",
       "      <th></th>\n",
       "      <th></th>\n",
       "      <th></th>\n",
       "      <th></th>\n",
       "      <th></th>\n",
       "      <th></th>\n",
       "      <th></th>\n",
       "      <th></th>\n",
       "      <th></th>\n",
       "      <th></th>\n",
       "    </tr>\n",
       "  </thead>\n",
       "  <tbody>\n",
       "    <tr>\n",
       "      <th>2011-06-01</th>\n",
       "      <td>RELIANCE</td>\n",
       "      <td>EQ</td>\n",
       "      <td>951.85</td>\n",
       "      <td>952.00</td>\n",
       "      <td>958.65</td>\n",
       "      <td>943.65</td>\n",
       "      <td>947.5</td>\n",
       "      <td>946.80</td>\n",
       "      <td>947.83</td>\n",
       "      <td>1838452</td>\n",
       "      <td>...</td>\n",
       "      <td>NaN</td>\n",
       "      <td>NaN</td>\n",
       "      <td>NaN</td>\n",
       "      <td>NaN</td>\n",
       "      <td>NaN</td>\n",
       "      <td>NaN</td>\n",
       "      <td>NaN</td>\n",
       "      <td>NaN</td>\n",
       "      <td>NaN</td>\n",
       "      <td>NaN</td>\n",
       "    </tr>\n",
       "    <tr>\n",
       "      <th>2011-06-02</th>\n",
       "      <td>RELIANCE</td>\n",
       "      <td>EQ</td>\n",
       "      <td>946.80</td>\n",
       "      <td>936.55</td>\n",
       "      <td>954.70</td>\n",
       "      <td>936.55</td>\n",
       "      <td>952.5</td>\n",
       "      <td>951.05</td>\n",
       "      <td>947.09</td>\n",
       "      <td>2152963</td>\n",
       "      <td>...</td>\n",
       "      <td>NaN</td>\n",
       "      <td>NaN</td>\n",
       "      <td>NaN</td>\n",
       "      <td>NaN</td>\n",
       "      <td>NaN</td>\n",
       "      <td>NaN</td>\n",
       "      <td>NaN</td>\n",
       "      <td>NaN</td>\n",
       "      <td>NaN</td>\n",
       "      <td>NaN</td>\n",
       "    </tr>\n",
       "    <tr>\n",
       "      <th>2011-06-03</th>\n",
       "      <td>RELIANCE</td>\n",
       "      <td>EQ</td>\n",
       "      <td>951.05</td>\n",
       "      <td>960.50</td>\n",
       "      <td>967.00</td>\n",
       "      <td>931.50</td>\n",
       "      <td>936.0</td>\n",
       "      <td>934.60</td>\n",
       "      <td>951.69</td>\n",
       "      <td>4368279</td>\n",
       "      <td>...</td>\n",
       "      <td>6.279796</td>\n",
       "      <td>NaN</td>\n",
       "      <td>6.103756</td>\n",
       "      <td>NaN</td>\n",
       "      <td>1.378802e+06</td>\n",
       "      <td>NaN</td>\n",
       "      <td>1.316906e+14</td>\n",
       "      <td>NaN</td>\n",
       "      <td>39286.830291</td>\n",
       "      <td>NaN</td>\n",
       "    </tr>\n",
       "    <tr>\n",
       "      <th>2011-06-06</th>\n",
       "      <td>RELIANCE</td>\n",
       "      <td>EQ</td>\n",
       "      <td>934.60</td>\n",
       "      <td>934.65</td>\n",
       "      <td>940.80</td>\n",
       "      <td>928.15</td>\n",
       "      <td>938.6</td>\n",
       "      <td>937.75</td>\n",
       "      <td>935.29</td>\n",
       "      <td>1405741</td>\n",
       "      <td>...</td>\n",
       "      <td>13.108140</td>\n",
       "      <td>NaN</td>\n",
       "      <td>4.228573</td>\n",
       "      <td>NaN</td>\n",
       "      <td>1.540703e+06</td>\n",
       "      <td>NaN</td>\n",
       "      <td>1.477100e+14</td>\n",
       "      <td>NaN</td>\n",
       "      <td>44721.093193</td>\n",
       "      <td>NaN</td>\n",
       "    </tr>\n",
       "    <tr>\n",
       "      <th>2011-06-07</th>\n",
       "      <td>RELIANCE</td>\n",
       "      <td>EQ</td>\n",
       "      <td>937.75</td>\n",
       "      <td>933.55</td>\n",
       "      <td>960.00</td>\n",
       "      <td>933.55</td>\n",
       "      <td>959.6</td>\n",
       "      <td>958.25</td>\n",
       "      <td>950.55</td>\n",
       "      <td>4025919</td>\n",
       "      <td>...</td>\n",
       "      <td>13.565151</td>\n",
       "      <td>NaN</td>\n",
       "      <td>2.725955</td>\n",
       "      <td>NaN</td>\n",
       "      <td>1.620657e+06</td>\n",
       "      <td>NaN</td>\n",
       "      <td>1.554524e+14</td>\n",
       "      <td>NaN</td>\n",
       "      <td>42726.764294</td>\n",
       "      <td>NaN</td>\n",
       "    </tr>\n",
       "  </tbody>\n",
       "</table>\n",
       "<p>5 rows × 34 columns</p>\n",
       "</div>"
      ],
      "text/plain": [
       "              Symbol Series  Prev Close    Open    High     Low   Last  \\\n",
       "Date                                                                     \n",
       "2011-06-01  RELIANCE     EQ      951.85  952.00  958.65  943.65  947.5   \n",
       "2011-06-02  RELIANCE     EQ      946.80  936.55  954.70  936.55  952.5   \n",
       "2011-06-03  RELIANCE     EQ      951.05  960.50  967.00  931.50  936.0   \n",
       "2011-06-06  RELIANCE     EQ      934.60  934.65  940.80  928.15  938.6   \n",
       "2011-06-07  RELIANCE     EQ      937.75  933.55  960.00  933.55  959.6   \n",
       "\n",
       "             Close    VWAP   Volume  ...  Highrolling_std_3  \\\n",
       "Date                                 ...                      \n",
       "2011-06-01  946.80  947.83  1838452  ...                NaN   \n",
       "2011-06-02  951.05  947.09  2152963  ...                NaN   \n",
       "2011-06-03  934.60  951.69  4368279  ...           6.279796   \n",
       "2011-06-06  937.75  935.29  1405741  ...          13.108140   \n",
       "2011-06-07  958.25  950.55  4025919  ...          13.565151   \n",
       "\n",
       "            Highrolling_std_7  Lowrolling_std_3  Lowrolling_std_7  \\\n",
       "Date                                                                \n",
       "2011-06-01                NaN               NaN               NaN   \n",
       "2011-06-02                NaN               NaN               NaN   \n",
       "2011-06-03                NaN          6.103756               NaN   \n",
       "2011-06-06                NaN          4.228573               NaN   \n",
       "2011-06-07                NaN          2.725955               NaN   \n",
       "\n",
       "            Volumerolling_std_3  Volumerolling_std_7  Turnoverrolling_std_3  \\\n",
       "Date                                                                          \n",
       "2011-06-01                  NaN                  NaN                    NaN   \n",
       "2011-06-02                  NaN                  NaN                    NaN   \n",
       "2011-06-03         1.378802e+06                  NaN           1.316906e+14   \n",
       "2011-06-06         1.540703e+06                  NaN           1.477100e+14   \n",
       "2011-06-07         1.620657e+06                  NaN           1.554524e+14   \n",
       "\n",
       "            Turnoverrolling_std_7  Tradesrolling_std_3  Tradesrolling_std_7  \n",
       "Date                                                                         \n",
       "2011-06-01                    NaN                  NaN                  NaN  \n",
       "2011-06-02                    NaN                  NaN                  NaN  \n",
       "2011-06-03                    NaN         39286.830291                  NaN  \n",
       "2011-06-06                    NaN         44721.093193                  NaN  \n",
       "2011-06-07                    NaN         42726.764294                  NaN  \n",
       "\n",
       "[5 rows x 34 columns]"
      ]
     },
     "execution_count": 19,
     "metadata": {},
     "output_type": "execute_result"
    }
   ],
   "source": [
    "data.head()"
   ]
  },
  {
   "cell_type": "code",
   "execution_count": 20,
   "metadata": {},
   "outputs": [
    {
     "data": {
      "text/plain": [
       "Index(['Symbol', 'Series', 'Prev Close', 'Open', 'High', 'Low', 'Last',\n",
       "       'Close', 'VWAP', 'Volume', 'Turnover', 'Trades', 'Deliverable Volume',\n",
       "       '%Deliverble', 'Highrolling_mean_3', 'Highrolling_mean_7',\n",
       "       'Lowrolling_mean_3', 'Lowrolling_mean_7', 'Volumerolling_mean_3',\n",
       "       'Volumerolling_mean_7', 'Turnoverrolling_mean_3',\n",
       "       'Turnoverrolling_mean_7', 'Tradesrolling_mean_3',\n",
       "       'Tradesrolling_mean_7', 'Highrolling_std_3', 'Highrolling_std_7',\n",
       "       'Lowrolling_std_3', 'Lowrolling_std_7', 'Volumerolling_std_3',\n",
       "       'Volumerolling_std_7', 'Turnoverrolling_std_3', 'Turnoverrolling_std_7',\n",
       "       'Tradesrolling_std_3', 'Tradesrolling_std_7'],\n",
       "      dtype='object')"
      ]
     },
     "execution_count": 20,
     "metadata": {},
     "output_type": "execute_result"
    }
   ],
   "source": [
    "data.columns"
   ]
  },
  {
   "cell_type": "code",
   "execution_count": 21,
   "metadata": {},
   "outputs": [
    {
     "data": {
      "text/plain": [
       "(2456, 34)"
      ]
     },
     "execution_count": 21,
     "metadata": {},
     "output_type": "execute_result"
    }
   ],
   "source": [
    "data.shape"
   ]
  },
  {
   "cell_type": "code",
   "execution_count": 22,
   "metadata": {},
   "outputs": [
    {
     "data": {
      "text/plain": [
       "Symbol                    0\n",
       "Series                    0\n",
       "Prev Close                0\n",
       "Open                      0\n",
       "High                      0\n",
       "Low                       0\n",
       "Last                      0\n",
       "Close                     0\n",
       "VWAP                      0\n",
       "Volume                    0\n",
       "Turnover                  0\n",
       "Trades                    0\n",
       "Deliverable Volume        0\n",
       "%Deliverble               0\n",
       "Highrolling_mean_3        2\n",
       "Highrolling_mean_7        6\n",
       "Lowrolling_mean_3         2\n",
       "Lowrolling_mean_7         6\n",
       "Volumerolling_mean_3      2\n",
       "Volumerolling_mean_7      6\n",
       "Turnoverrolling_mean_3    2\n",
       "Turnoverrolling_mean_7    6\n",
       "Tradesrolling_mean_3      2\n",
       "Tradesrolling_mean_7      6\n",
       "Highrolling_std_3         2\n",
       "Highrolling_std_7         6\n",
       "Lowrolling_std_3          2\n",
       "Lowrolling_std_7          6\n",
       "Volumerolling_std_3       2\n",
       "Volumerolling_std_7       6\n",
       "Turnoverrolling_std_3     2\n",
       "Turnoverrolling_std_7     6\n",
       "Tradesrolling_std_3       2\n",
       "Tradesrolling_std_7       6\n",
       "dtype: int64"
      ]
     },
     "execution_count": 22,
     "metadata": {},
     "output_type": "execute_result"
    }
   ],
   "source": [
    "data.isna().sum()"
   ]
  },
  {
   "cell_type": "code",
   "execution_count": 23,
   "metadata": {},
   "outputs": [],
   "source": [
    "data.dropna(inplace=True)"
   ]
  },
  {
   "cell_type": "code",
   "execution_count": 24,
   "metadata": {},
   "outputs": [
    {
     "data": {
      "text/plain": [
       "Index(['Symbol', 'Series', 'Prev Close', 'Open', 'High', 'Low', 'Last',\n",
       "       'Close', 'VWAP', 'Volume', 'Turnover', 'Trades', 'Deliverable Volume',\n",
       "       '%Deliverble', 'Highrolling_mean_3', 'Highrolling_mean_7',\n",
       "       'Lowrolling_mean_3', 'Lowrolling_mean_7', 'Volumerolling_mean_3',\n",
       "       'Volumerolling_mean_7', 'Turnoverrolling_mean_3',\n",
       "       'Turnoverrolling_mean_7', 'Tradesrolling_mean_3',\n",
       "       'Tradesrolling_mean_7', 'Highrolling_std_3', 'Highrolling_std_7',\n",
       "       'Lowrolling_std_3', 'Lowrolling_std_7', 'Volumerolling_std_3',\n",
       "       'Volumerolling_std_7', 'Turnoverrolling_std_3', 'Turnoverrolling_std_7',\n",
       "       'Tradesrolling_std_3', 'Tradesrolling_std_7'],\n",
       "      dtype='object')"
      ]
     },
     "execution_count": 24,
     "metadata": {},
     "output_type": "execute_result"
    }
   ],
   "source": [
    "data.columns"
   ]
  },
  {
   "cell_type": "code",
   "execution_count": 25,
   "metadata": {},
   "outputs": [],
   "source": [
    "ind_features=['Highrolling_mean_3', 'Highrolling_mean_7',\n",
    "       'Lowrolling_mean_3', 'Lowrolling_mean_7', 'Volumerolling_mean_3',\n",
    "       'Volumerolling_mean_7', 'Turnoverrolling_mean_3',\n",
    "       'Turnoverrolling_mean_7', 'Tradesrolling_mean_3',\n",
    "       'Tradesrolling_mean_7', 'Highrolling_std_3', 'Highrolling_std_7',\n",
    "       'Lowrolling_std_3', 'Lowrolling_std_7', 'Volumerolling_std_3',\n",
    "       'Volumerolling_std_7', 'Turnoverrolling_std_3', 'Turnoverrolling_std_7',\n",
    "       'Tradesrolling_std_3', 'Tradesrolling_std_7']"
   ]
  },
  {
   "cell_type": "code",
   "execution_count": 26,
   "metadata": {},
   "outputs": [],
   "source": [
    "training_data=data[0:1800]\n",
    "test_data=data[1800:]"
   ]
  },
  {
   "cell_type": "code",
   "execution_count": 27,
   "metadata": {},
   "outputs": [
    {
     "data": {
      "text/html": [
       "<div>\n",
       "<style scoped>\n",
       "    .dataframe tbody tr th:only-of-type {\n",
       "        vertical-align: middle;\n",
       "    }\n",
       "\n",
       "    .dataframe tbody tr th {\n",
       "        vertical-align: top;\n",
       "    }\n",
       "\n",
       "    .dataframe thead th {\n",
       "        text-align: right;\n",
       "    }\n",
       "</style>\n",
       "<table border=\"1\" class=\"dataframe\">\n",
       "  <thead>\n",
       "    <tr style=\"text-align: right;\">\n",
       "      <th></th>\n",
       "      <th>Symbol</th>\n",
       "      <th>Series</th>\n",
       "      <th>Prev Close</th>\n",
       "      <th>Open</th>\n",
       "      <th>High</th>\n",
       "      <th>Low</th>\n",
       "      <th>Last</th>\n",
       "      <th>Close</th>\n",
       "      <th>VWAP</th>\n",
       "      <th>Volume</th>\n",
       "      <th>...</th>\n",
       "      <th>Highrolling_std_3</th>\n",
       "      <th>Highrolling_std_7</th>\n",
       "      <th>Lowrolling_std_3</th>\n",
       "      <th>Lowrolling_std_7</th>\n",
       "      <th>Volumerolling_std_3</th>\n",
       "      <th>Volumerolling_std_7</th>\n",
       "      <th>Turnoverrolling_std_3</th>\n",
       "      <th>Turnoverrolling_std_7</th>\n",
       "      <th>Tradesrolling_std_3</th>\n",
       "      <th>Tradesrolling_std_7</th>\n",
       "    </tr>\n",
       "    <tr>\n",
       "      <th>Date</th>\n",
       "      <th></th>\n",
       "      <th></th>\n",
       "      <th></th>\n",
       "      <th></th>\n",
       "      <th></th>\n",
       "      <th></th>\n",
       "      <th></th>\n",
       "      <th></th>\n",
       "      <th></th>\n",
       "      <th></th>\n",
       "      <th></th>\n",
       "      <th></th>\n",
       "      <th></th>\n",
       "      <th></th>\n",
       "      <th></th>\n",
       "      <th></th>\n",
       "      <th></th>\n",
       "      <th></th>\n",
       "      <th></th>\n",
       "      <th></th>\n",
       "      <th></th>\n",
       "    </tr>\n",
       "  </thead>\n",
       "  <tbody>\n",
       "    <tr>\n",
       "      <th>2011-06-09</th>\n",
       "      <td>RELIANCE</td>\n",
       "      <td>EQ</td>\n",
       "      <td>949.20</td>\n",
       "      <td>947.50</td>\n",
       "      <td>957.85</td>\n",
       "      <td>947.00</td>\n",
       "      <td>954.60</td>\n",
       "      <td>954.00</td>\n",
       "      <td>953.65</td>\n",
       "      <td>2092020</td>\n",
       "      <td>...</td>\n",
       "      <td>2.026286</td>\n",
       "      <td>7.947057</td>\n",
       "      <td>7.051773</td>\n",
       "      <td>7.177669</td>\n",
       "      <td>9.730269e+05</td>\n",
       "      <td>1.148850e+06</td>\n",
       "      <td>9.210180e+13</td>\n",
       "      <td>1.097500e+14</td>\n",
       "      <td>17795.257524</td>\n",
       "      <td>28710.404696</td>\n",
       "    </tr>\n",
       "    <tr>\n",
       "      <th>2011-06-10</th>\n",
       "      <td>RELIANCE</td>\n",
       "      <td>EQ</td>\n",
       "      <td>954.00</td>\n",
       "      <td>955.10</td>\n",
       "      <td>956.00</td>\n",
       "      <td>932.05</td>\n",
       "      <td>946.00</td>\n",
       "      <td>944.50</td>\n",
       "      <td>942.51</td>\n",
       "      <td>2530136</td>\n",
       "      <td>...</td>\n",
       "      <td>1.082820</td>\n",
       "      <td>7.886086</td>\n",
       "      <td>7.899525</td>\n",
       "      <td>6.927026</td>\n",
       "      <td>5.830896e+05</td>\n",
       "      <td>1.087187e+06</td>\n",
       "      <td>5.491079e+13</td>\n",
       "      <td>1.039839e+14</td>\n",
       "      <td>18053.915374</td>\n",
       "      <td>28655.824909</td>\n",
       "    </tr>\n",
       "    <tr>\n",
       "      <th>2011-06-13</th>\n",
       "      <td>RELIANCE</td>\n",
       "      <td>EQ</td>\n",
       "      <td>944.50</td>\n",
       "      <td>943.25</td>\n",
       "      <td>943.25</td>\n",
       "      <td>921.00</td>\n",
       "      <td>924.60</td>\n",
       "      <td>925.60</td>\n",
       "      <td>926.27</td>\n",
       "      <td>2954066</td>\n",
       "      <td>...</td>\n",
       "      <td>7.949266</td>\n",
       "      <td>9.276019</td>\n",
       "      <td>13.048659</td>\n",
       "      <td>8.957200</td>\n",
       "      <td>4.310425e+05</td>\n",
       "      <td>1.045181e+06</td>\n",
       "      <td>3.707669e+13</td>\n",
       "      <td>1.000263e+14</td>\n",
       "      <td>22799.359881</td>\n",
       "      <td>28759.787990</td>\n",
       "    </tr>\n",
       "    <tr>\n",
       "      <th>2011-06-14</th>\n",
       "      <td>RELIANCE</td>\n",
       "      <td>EQ</td>\n",
       "      <td>925.60</td>\n",
       "      <td>925.30</td>\n",
       "      <td>931.75</td>\n",
       "      <td>910.00</td>\n",
       "      <td>911.45</td>\n",
       "      <td>911.35</td>\n",
       "      <td>915.92</td>\n",
       "      <td>4335560</td>\n",
       "      <td>...</td>\n",
       "      <td>12.130368</td>\n",
       "      <td>10.751157</td>\n",
       "      <td>11.025009</td>\n",
       "      <td>12.781423</td>\n",
       "      <td>9.440867e+05</td>\n",
       "      <td>1.037808e+06</td>\n",
       "      <td>8.331395e+13</td>\n",
       "      <td>9.593198e+13</td>\n",
       "      <td>5923.301360</td>\n",
       "      <td>22259.737281</td>\n",
       "    </tr>\n",
       "    <tr>\n",
       "      <th>2011-06-15</th>\n",
       "      <td>RELIANCE</td>\n",
       "      <td>EQ</td>\n",
       "      <td>911.35</td>\n",
       "      <td>912.00</td>\n",
       "      <td>918.90</td>\n",
       "      <td>898.60</td>\n",
       "      <td>900.25</td>\n",
       "      <td>900.55</td>\n",
       "      <td>906.48</td>\n",
       "      <td>4607486</td>\n",
       "      <td>...</td>\n",
       "      <td>12.181236</td>\n",
       "      <td>15.705875</td>\n",
       "      <td>11.200595</td>\n",
       "      <td>17.729952</td>\n",
       "      <td>8.865915e+05</td>\n",
       "      <td>9.499816e+05</td>\n",
       "      <td>7.790425e+13</td>\n",
       "      <td>8.445778e+13</td>\n",
       "      <td>22746.158188</td>\n",
       "      <td>26493.111072</td>\n",
       "    </tr>\n",
       "    <tr>\n",
       "      <th>...</th>\n",
       "      <td>...</td>\n",
       "      <td>...</td>\n",
       "      <td>...</td>\n",
       "      <td>...</td>\n",
       "      <td>...</td>\n",
       "      <td>...</td>\n",
       "      <td>...</td>\n",
       "      <td>...</td>\n",
       "      <td>...</td>\n",
       "      <td>...</td>\n",
       "      <td>...</td>\n",
       "      <td>...</td>\n",
       "      <td>...</td>\n",
       "      <td>...</td>\n",
       "      <td>...</td>\n",
       "      <td>...</td>\n",
       "      <td>...</td>\n",
       "      <td>...</td>\n",
       "      <td>...</td>\n",
       "      <td>...</td>\n",
       "      <td>...</td>\n",
       "    </tr>\n",
       "    <tr>\n",
       "      <th>2018-09-04</th>\n",
       "      <td>RELIANCE</td>\n",
       "      <td>EQ</td>\n",
       "      <td>1229.15</td>\n",
       "      <td>1235.15</td>\n",
       "      <td>1254.80</td>\n",
       "      <td>1229.00</td>\n",
       "      <td>1245.30</td>\n",
       "      <td>1241.95</td>\n",
       "      <td>1241.44</td>\n",
       "      <td>8838770</td>\n",
       "      <td>...</td>\n",
       "      <td>8.031812</td>\n",
       "      <td>29.899942</td>\n",
       "      <td>5.443115</td>\n",
       "      <td>29.590929</td>\n",
       "      <td>3.234384e+06</td>\n",
       "      <td>3.068510e+06</td>\n",
       "      <td>4.058476e+14</td>\n",
       "      <td>3.753736e+14</td>\n",
       "      <td>44610.740288</td>\n",
       "      <td>48004.426844</td>\n",
       "    </tr>\n",
       "    <tr>\n",
       "      <th>2018-09-05</th>\n",
       "      <td>RELIANCE</td>\n",
       "      <td>EQ</td>\n",
       "      <td>1241.95</td>\n",
       "      <td>1242.50</td>\n",
       "      <td>1252.65</td>\n",
       "      <td>1208.50</td>\n",
       "      <td>1226.00</td>\n",
       "      <td>1227.00</td>\n",
       "      <td>1230.06</td>\n",
       "      <td>10324923</td>\n",
       "      <td>...</td>\n",
       "      <td>2.639287</td>\n",
       "      <td>32.735926</td>\n",
       "      <td>11.082682</td>\n",
       "      <td>34.085308</td>\n",
       "      <td>1.684372e+06</td>\n",
       "      <td>2.297750e+06</td>\n",
       "      <td>2.096415e+14</td>\n",
       "      <td>2.789585e+14</td>\n",
       "      <td>6691.005380</td>\n",
       "      <td>36038.850957</td>\n",
       "    </tr>\n",
       "    <tr>\n",
       "      <th>2018-09-06</th>\n",
       "      <td>RELIANCE</td>\n",
       "      <td>EQ</td>\n",
       "      <td>1227.00</td>\n",
       "      <td>1230.15</td>\n",
       "      <td>1265.70</td>\n",
       "      <td>1225.35</td>\n",
       "      <td>1261.00</td>\n",
       "      <td>1261.40</td>\n",
       "      <td>1245.01</td>\n",
       "      <td>11195043</td>\n",
       "      <td>...</td>\n",
       "      <td>6.996845</td>\n",
       "      <td>28.039833</td>\n",
       "      <td>10.935378</td>\n",
       "      <td>28.797784</td>\n",
       "      <td>1.191482e+06</td>\n",
       "      <td>2.082259e+06</td>\n",
       "      <td>1.489314e+14</td>\n",
       "      <td>2.587592e+14</td>\n",
       "      <td>7521.329936</td>\n",
       "      <td>34188.546239</td>\n",
       "    </tr>\n",
       "    <tr>\n",
       "      <th>2018-09-07</th>\n",
       "      <td>RELIANCE</td>\n",
       "      <td>EQ</td>\n",
       "      <td>1261.40</td>\n",
       "      <td>1264.90</td>\n",
       "      <td>1281.35</td>\n",
       "      <td>1254.50</td>\n",
       "      <td>1277.05</td>\n",
       "      <td>1278.60</td>\n",
       "      <td>1272.05</td>\n",
       "      <td>10692787</td>\n",
       "      <td>...</td>\n",
       "      <td>14.369615</td>\n",
       "      <td>16.058783</td>\n",
       "      <td>23.272462</td>\n",
       "      <td>20.602363</td>\n",
       "      <td>4.367863e+05</td>\n",
       "      <td>2.092803e+06</td>\n",
       "      <td>6.399871e+13</td>\n",
       "      <td>2.588428e+14</td>\n",
       "      <td>9280.130513</td>\n",
       "      <td>33617.340867</td>\n",
       "    </tr>\n",
       "    <tr>\n",
       "      <th>2018-09-10</th>\n",
       "      <td>RELIANCE</td>\n",
       "      <td>EQ</td>\n",
       "      <td>1278.60</td>\n",
       "      <td>1275.00</td>\n",
       "      <td>1277.00</td>\n",
       "      <td>1250.10</td>\n",
       "      <td>1254.40</td>\n",
       "      <td>1255.85</td>\n",
       "      <td>1263.51</td>\n",
       "      <td>7059008</td>\n",
       "      <td>...</td>\n",
       "      <td>8.078108</td>\n",
       "      <td>11.113200</td>\n",
       "      <td>15.714351</td>\n",
       "      <td>15.761659</td>\n",
       "      <td>2.256967e+06</td>\n",
       "      <td>2.597995e+06</td>\n",
       "      <td>2.805589e+14</td>\n",
       "      <td>3.218425e+14</td>\n",
       "      <td>27548.249146</td>\n",
       "      <td>37514.700180</td>\n",
       "    </tr>\n",
       "  </tbody>\n",
       "</table>\n",
       "<p>1800 rows × 34 columns</p>\n",
       "</div>"
      ],
      "text/plain": [
       "              Symbol Series  Prev Close     Open     High      Low     Last  \\\n",
       "Date                                                                          \n",
       "2011-06-09  RELIANCE     EQ      949.20   947.50   957.85   947.00   954.60   \n",
       "2011-06-10  RELIANCE     EQ      954.00   955.10   956.00   932.05   946.00   \n",
       "2011-06-13  RELIANCE     EQ      944.50   943.25   943.25   921.00   924.60   \n",
       "2011-06-14  RELIANCE     EQ      925.60   925.30   931.75   910.00   911.45   \n",
       "2011-06-15  RELIANCE     EQ      911.35   912.00   918.90   898.60   900.25   \n",
       "...              ...    ...         ...      ...      ...      ...      ...   \n",
       "2018-09-04  RELIANCE     EQ     1229.15  1235.15  1254.80  1229.00  1245.30   \n",
       "2018-09-05  RELIANCE     EQ     1241.95  1242.50  1252.65  1208.50  1226.00   \n",
       "2018-09-06  RELIANCE     EQ     1227.00  1230.15  1265.70  1225.35  1261.00   \n",
       "2018-09-07  RELIANCE     EQ     1261.40  1264.90  1281.35  1254.50  1277.05   \n",
       "2018-09-10  RELIANCE     EQ     1278.60  1275.00  1277.00  1250.10  1254.40   \n",
       "\n",
       "              Close     VWAP    Volume  ...  Highrolling_std_3  \\\n",
       "Date                                    ...                      \n",
       "2011-06-09   954.00   953.65   2092020  ...           2.026286   \n",
       "2011-06-10   944.50   942.51   2530136  ...           1.082820   \n",
       "2011-06-13   925.60   926.27   2954066  ...           7.949266   \n",
       "2011-06-14   911.35   915.92   4335560  ...          12.130368   \n",
       "2011-06-15   900.55   906.48   4607486  ...          12.181236   \n",
       "...             ...      ...       ...  ...                ...   \n",
       "2018-09-04  1241.95  1241.44   8838770  ...           8.031812   \n",
       "2018-09-05  1227.00  1230.06  10324923  ...           2.639287   \n",
       "2018-09-06  1261.40  1245.01  11195043  ...           6.996845   \n",
       "2018-09-07  1278.60  1272.05  10692787  ...          14.369615   \n",
       "2018-09-10  1255.85  1263.51   7059008  ...           8.078108   \n",
       "\n",
       "            Highrolling_std_7  Lowrolling_std_3  Lowrolling_std_7  \\\n",
       "Date                                                                \n",
       "2011-06-09           7.947057          7.051773          7.177669   \n",
       "2011-06-10           7.886086          7.899525          6.927026   \n",
       "2011-06-13           9.276019         13.048659          8.957200   \n",
       "2011-06-14          10.751157         11.025009         12.781423   \n",
       "2011-06-15          15.705875         11.200595         17.729952   \n",
       "...                       ...               ...               ...   \n",
       "2018-09-04          29.899942          5.443115         29.590929   \n",
       "2018-09-05          32.735926         11.082682         34.085308   \n",
       "2018-09-06          28.039833         10.935378         28.797784   \n",
       "2018-09-07          16.058783         23.272462         20.602363   \n",
       "2018-09-10          11.113200         15.714351         15.761659   \n",
       "\n",
       "            Volumerolling_std_3  Volumerolling_std_7  Turnoverrolling_std_3  \\\n",
       "Date                                                                          \n",
       "2011-06-09         9.730269e+05         1.148850e+06           9.210180e+13   \n",
       "2011-06-10         5.830896e+05         1.087187e+06           5.491079e+13   \n",
       "2011-06-13         4.310425e+05         1.045181e+06           3.707669e+13   \n",
       "2011-06-14         9.440867e+05         1.037808e+06           8.331395e+13   \n",
       "2011-06-15         8.865915e+05         9.499816e+05           7.790425e+13   \n",
       "...                         ...                  ...                    ...   \n",
       "2018-09-04         3.234384e+06         3.068510e+06           4.058476e+14   \n",
       "2018-09-05         1.684372e+06         2.297750e+06           2.096415e+14   \n",
       "2018-09-06         1.191482e+06         2.082259e+06           1.489314e+14   \n",
       "2018-09-07         4.367863e+05         2.092803e+06           6.399871e+13   \n",
       "2018-09-10         2.256967e+06         2.597995e+06           2.805589e+14   \n",
       "\n",
       "            Turnoverrolling_std_7  Tradesrolling_std_3  Tradesrolling_std_7  \n",
       "Date                                                                         \n",
       "2011-06-09           1.097500e+14         17795.257524         28710.404696  \n",
       "2011-06-10           1.039839e+14         18053.915374         28655.824909  \n",
       "2011-06-13           1.000263e+14         22799.359881         28759.787990  \n",
       "2011-06-14           9.593198e+13          5923.301360         22259.737281  \n",
       "2011-06-15           8.445778e+13         22746.158188         26493.111072  \n",
       "...                           ...                  ...                  ...  \n",
       "2018-09-04           3.753736e+14         44610.740288         48004.426844  \n",
       "2018-09-05           2.789585e+14          6691.005380         36038.850957  \n",
       "2018-09-06           2.587592e+14          7521.329936         34188.546239  \n",
       "2018-09-07           2.588428e+14          9280.130513         33617.340867  \n",
       "2018-09-10           3.218425e+14         27548.249146         37514.700180  \n",
       "\n",
       "[1800 rows x 34 columns]"
      ]
     },
     "execution_count": 27,
     "metadata": {},
     "output_type": "execute_result"
    }
   ],
   "source": [
    "training_data"
   ]
  },
  {
   "cell_type": "code",
   "execution_count": null,
   "metadata": {},
   "outputs": [],
   "source": []
  },
  {
   "cell_type": "code",
   "execution_count": 28,
   "metadata": {},
   "outputs": [],
   "source": [
    "#pip install pmdarima"
   ]
  },
  {
   "cell_type": "code",
   "execution_count": 29,
   "metadata": {},
   "outputs": [],
   "source": [
    "from pmdarima import auto_arima"
   ]
  },
  {
   "cell_type": "code",
   "execution_count": 30,
   "metadata": {},
   "outputs": [],
   "source": [
    "import warnings\n",
    "warnings.filterwarnings('ignore')"
   ]
  },
  {
   "cell_type": "code",
   "execution_count": 31,
   "metadata": {},
   "outputs": [
    {
     "name": "stdout",
     "output_type": "stream",
     "text": [
      "Performing stepwise search to minimize aic\n",
      " ARIMA(2,1,2)(0,0,0)[0] intercept   : AIC=16434.483, Time=1.51 sec\n",
      " ARIMA(0,1,0)(0,0,0)[0] intercept   : AIC=16438.932, Time=0.08 sec\n",
      " ARIMA(1,1,0)(0,0,0)[0] intercept   : AIC=16433.015, Time=0.17 sec\n",
      " ARIMA(0,1,1)(0,0,0)[0] intercept   : AIC=16432.812, Time=0.35 sec\n",
      " ARIMA(0,1,0)(0,0,0)[0]             : AIC=16437.031, Time=0.07 sec\n",
      " ARIMA(1,1,1)(0,0,0)[0] intercept   : AIC=16434.635, Time=0.61 sec\n",
      " ARIMA(0,1,2)(0,0,0)[0] intercept   : AIC=16434.623, Time=0.43 sec\n",
      " ARIMA(1,1,2)(0,0,0)[0] intercept   : AIC=16434.765, Time=0.83 sec\n",
      " ARIMA(0,1,1)(0,0,0)[0]             : AIC=16430.897, Time=0.11 sec\n",
      " ARIMA(1,1,1)(0,0,0)[0]             : AIC=16432.722, Time=0.17 sec\n",
      " ARIMA(0,1,2)(0,0,0)[0]             : AIC=16432.710, Time=0.15 sec\n",
      " ARIMA(1,1,0)(0,0,0)[0]             : AIC=16431.100, Time=0.04 sec\n",
      " ARIMA(1,1,2)(0,0,0)[0]             : AIC=16432.870, Time=0.41 sec\n",
      "\n",
      "Best model:  ARIMA(0,1,1)(0,0,0)[0]          \n",
      "Total fit time: 5.039 seconds\n"
     ]
    }
   ],
   "source": [
    "model=auto_arima(y=training_data['VWAP'],exogenous=training_data[ind_features],trace=True)"
   ]
  },
  {
   "cell_type": "code",
   "execution_count": 32,
   "metadata": {},
   "outputs": [
    {
     "data": {
      "text/html": [
       "<style>#sk-container-id-1 {color: black;background-color: white;}#sk-container-id-1 pre{padding: 0;}#sk-container-id-1 div.sk-toggleable {background-color: white;}#sk-container-id-1 label.sk-toggleable__label {cursor: pointer;display: block;width: 100%;margin-bottom: 0;padding: 0.3em;box-sizing: border-box;text-align: center;}#sk-container-id-1 label.sk-toggleable__label-arrow:before {content: \"▸\";float: left;margin-right: 0.25em;color: #696969;}#sk-container-id-1 label.sk-toggleable__label-arrow:hover:before {color: black;}#sk-container-id-1 div.sk-estimator:hover label.sk-toggleable__label-arrow:before {color: black;}#sk-container-id-1 div.sk-toggleable__content {max-height: 0;max-width: 0;overflow: hidden;text-align: left;background-color: #f0f8ff;}#sk-container-id-1 div.sk-toggleable__content pre {margin: 0.2em;color: black;border-radius: 0.25em;background-color: #f0f8ff;}#sk-container-id-1 input.sk-toggleable__control:checked~div.sk-toggleable__content {max-height: 200px;max-width: 100%;overflow: auto;}#sk-container-id-1 input.sk-toggleable__control:checked~label.sk-toggleable__label-arrow:before {content: \"▾\";}#sk-container-id-1 div.sk-estimator input.sk-toggleable__control:checked~label.sk-toggleable__label {background-color: #d4ebff;}#sk-container-id-1 div.sk-label input.sk-toggleable__control:checked~label.sk-toggleable__label {background-color: #d4ebff;}#sk-container-id-1 input.sk-hidden--visually {border: 0;clip: rect(1px 1px 1px 1px);clip: rect(1px, 1px, 1px, 1px);height: 1px;margin: -1px;overflow: hidden;padding: 0;position: absolute;width: 1px;}#sk-container-id-1 div.sk-estimator {font-family: monospace;background-color: #f0f8ff;border: 1px dotted black;border-radius: 0.25em;box-sizing: border-box;margin-bottom: 0.5em;}#sk-container-id-1 div.sk-estimator:hover {background-color: #d4ebff;}#sk-container-id-1 div.sk-parallel-item::after {content: \"\";width: 100%;border-bottom: 1px solid gray;flex-grow: 1;}#sk-container-id-1 div.sk-label:hover label.sk-toggleable__label {background-color: #d4ebff;}#sk-container-id-1 div.sk-serial::before {content: \"\";position: absolute;border-left: 1px solid gray;box-sizing: border-box;top: 0;bottom: 0;left: 50%;z-index: 0;}#sk-container-id-1 div.sk-serial {display: flex;flex-direction: column;align-items: center;background-color: white;padding-right: 0.2em;padding-left: 0.2em;position: relative;}#sk-container-id-1 div.sk-item {position: relative;z-index: 1;}#sk-container-id-1 div.sk-parallel {display: flex;align-items: stretch;justify-content: center;background-color: white;position: relative;}#sk-container-id-1 div.sk-item::before, #sk-container-id-1 div.sk-parallel-item::before {content: \"\";position: absolute;border-left: 1px solid gray;box-sizing: border-box;top: 0;bottom: 0;left: 50%;z-index: -1;}#sk-container-id-1 div.sk-parallel-item {display: flex;flex-direction: column;z-index: 1;position: relative;background-color: white;}#sk-container-id-1 div.sk-parallel-item:first-child::after {align-self: flex-end;width: 50%;}#sk-container-id-1 div.sk-parallel-item:last-child::after {align-self: flex-start;width: 50%;}#sk-container-id-1 div.sk-parallel-item:only-child::after {width: 0;}#sk-container-id-1 div.sk-dashed-wrapped {border: 1px dashed gray;margin: 0 0.4em 0.5em 0.4em;box-sizing: border-box;padding-bottom: 0.4em;background-color: white;}#sk-container-id-1 div.sk-label label {font-family: monospace;font-weight: bold;display: inline-block;line-height: 1.2em;}#sk-container-id-1 div.sk-label-container {text-align: center;}#sk-container-id-1 div.sk-container {/* jupyter's `normalize.less` sets `[hidden] { display: none; }` but bootstrap.min.css set `[hidden] { display: none !important; }` so we also need the `!important` here to be able to override the default hidden behavior on the sphinx rendered scikit-learn.org. See: https://github.com/scikit-learn/scikit-learn/issues/21755 */display: inline-block !important;position: relative;}#sk-container-id-1 div.sk-text-repr-fallback {display: none;}</style><div id=\"sk-container-id-1\" class=\"sk-top-container\"><div class=\"sk-text-repr-fallback\"><pre> ARIMA(0,1,1)(0,0,0)[0]          </pre><b>In a Jupyter environment, please rerun this cell to show the HTML representation or trust the notebook. <br />On GitHub, the HTML representation is unable to render, please try loading this page with nbviewer.org.</b></div><div class=\"sk-container\" hidden><div class=\"sk-item\"><div class=\"sk-estimator sk-toggleable\"><input class=\"sk-toggleable__control sk-hidden--visually\" id=\"sk-estimator-id-1\" type=\"checkbox\" checked><label for=\"sk-estimator-id-1\" class=\"sk-toggleable__label sk-toggleable__label-arrow\">ARIMA</label><div class=\"sk-toggleable__content\"><pre> ARIMA(0,1,1)(0,0,0)[0]          </pre></div></div></div></div></div>"
      ],
      "text/plain": [
       "ARIMA(order=(0, 1, 1), scoring_args={}, suppress_warnings=True,\n",
       "      with_intercept=False)"
      ]
     },
     "execution_count": 32,
     "metadata": {},
     "output_type": "execute_result"
    }
   ],
   "source": [
    "model.fit(training_data['VWAP'],training_data[ind_features])"
   ]
  },
  {
   "cell_type": "code",
   "execution_count": 33,
   "metadata": {},
   "outputs": [
    {
     "data": {
      "text/plain": [
       "1800    1267.277676\n",
       "1801    1258.663851\n",
       "1802    1259.008822\n",
       "1803    1248.563009\n",
       "1804    1237.424841\n",
       "           ...     \n",
       "2445    1871.013636\n",
       "2446    1897.365905\n",
       "2447    1907.550544\n",
       "2448    1924.672893\n",
       "2449    1954.420474\n",
       "Length: 650, dtype: float64"
      ]
     },
     "execution_count": 33,
     "metadata": {},
     "output_type": "execute_result"
    }
   ],
   "source": [
    "forecast=model.predict(n_periods=len(test_data), X=test_data[ind_features])\n",
    "forecast"
   ]
  },
  {
   "cell_type": "code",
   "execution_count": 34,
   "metadata": {},
   "outputs": [
    {
     "data": {
      "text/html": [
       "<div>\n",
       "<style scoped>\n",
       "    .dataframe tbody tr th:only-of-type {\n",
       "        vertical-align: middle;\n",
       "    }\n",
       "\n",
       "    .dataframe tbody tr th {\n",
       "        vertical-align: top;\n",
       "    }\n",
       "\n",
       "    .dataframe thead th {\n",
       "        text-align: right;\n",
       "    }\n",
       "</style>\n",
       "<table border=\"1\" class=\"dataframe\">\n",
       "  <thead>\n",
       "    <tr style=\"text-align: right;\">\n",
       "      <th></th>\n",
       "      <th>Forecast_ARIMA</th>\n",
       "    </tr>\n",
       "  </thead>\n",
       "  <tbody>\n",
       "    <tr>\n",
       "      <th>1800</th>\n",
       "      <td>1267.277676</td>\n",
       "    </tr>\n",
       "    <tr>\n",
       "      <th>1801</th>\n",
       "      <td>1258.663851</td>\n",
       "    </tr>\n",
       "    <tr>\n",
       "      <th>1802</th>\n",
       "      <td>1259.008822</td>\n",
       "    </tr>\n",
       "    <tr>\n",
       "      <th>1803</th>\n",
       "      <td>1248.563009</td>\n",
       "    </tr>\n",
       "    <tr>\n",
       "      <th>1804</th>\n",
       "      <td>1237.424841</td>\n",
       "    </tr>\n",
       "    <tr>\n",
       "      <th>...</th>\n",
       "      <td>...</td>\n",
       "    </tr>\n",
       "    <tr>\n",
       "      <th>2445</th>\n",
       "      <td>1871.013636</td>\n",
       "    </tr>\n",
       "    <tr>\n",
       "      <th>2446</th>\n",
       "      <td>1897.365905</td>\n",
       "    </tr>\n",
       "    <tr>\n",
       "      <th>2447</th>\n",
       "      <td>1907.550544</td>\n",
       "    </tr>\n",
       "    <tr>\n",
       "      <th>2448</th>\n",
       "      <td>1924.672893</td>\n",
       "    </tr>\n",
       "    <tr>\n",
       "      <th>2449</th>\n",
       "      <td>1954.420474</td>\n",
       "    </tr>\n",
       "  </tbody>\n",
       "</table>\n",
       "<p>650 rows × 1 columns</p>\n",
       "</div>"
      ],
      "text/plain": [
       "      Forecast_ARIMA\n",
       "1800     1267.277676\n",
       "1801     1258.663851\n",
       "1802     1259.008822\n",
       "1803     1248.563009\n",
       "1804     1237.424841\n",
       "...              ...\n",
       "2445     1871.013636\n",
       "2446     1897.365905\n",
       "2447     1907.550544\n",
       "2448     1924.672893\n",
       "2449     1954.420474\n",
       "\n",
       "[650 rows x 1 columns]"
      ]
     },
     "execution_count": 34,
     "metadata": {},
     "output_type": "execute_result"
    }
   ],
   "source": [
    "#test_data.reset_index(drop=True, inplace=True)\n",
    "#test_data['Forecast_ARIMA'] = forecast\n",
    "#forecast_df = pd.DataFrame(forecast, index=test_data.index, columns=['Forecast_ARIMA'])\n",
    "#test_data = pd.concat([test_data, forecast_df], axis=1)\n",
    "#test_data['Forecast_ARIMA']=forecast\n",
    "#test_data['Forecast_ARIMA']\n",
    "forecast\n",
    "forecast_df = pd.DataFrame(forecast, columns=['Forecast_ARIMA'])\n",
    "forecast_df"
   ]
  },
  {
   "cell_type": "code",
   "execution_count": 35,
   "metadata": {},
   "outputs": [
    {
     "data": {
      "text/html": [
       "<div>\n",
       "<style scoped>\n",
       "    .dataframe tbody tr th:only-of-type {\n",
       "        vertical-align: middle;\n",
       "    }\n",
       "\n",
       "    .dataframe tbody tr th {\n",
       "        vertical-align: top;\n",
       "    }\n",
       "\n",
       "    .dataframe thead th {\n",
       "        text-align: right;\n",
       "    }\n",
       "</style>\n",
       "<table border=\"1\" class=\"dataframe\">\n",
       "  <thead>\n",
       "    <tr style=\"text-align: right;\">\n",
       "      <th></th>\n",
       "      <th>Symbol</th>\n",
       "      <th>Series</th>\n",
       "      <th>Prev Close</th>\n",
       "      <th>Open</th>\n",
       "      <th>High</th>\n",
       "      <th>Low</th>\n",
       "      <th>Last</th>\n",
       "      <th>Close</th>\n",
       "      <th>VWAP</th>\n",
       "      <th>Volume</th>\n",
       "      <th>...</th>\n",
       "      <th>Highrolling_std_7</th>\n",
       "      <th>Lowrolling_std_3</th>\n",
       "      <th>Lowrolling_std_7</th>\n",
       "      <th>Volumerolling_std_3</th>\n",
       "      <th>Volumerolling_std_7</th>\n",
       "      <th>Turnoverrolling_std_3</th>\n",
       "      <th>Turnoverrolling_std_7</th>\n",
       "      <th>Tradesrolling_std_3</th>\n",
       "      <th>Tradesrolling_std_7</th>\n",
       "      <th>Forecast_ARIMA</th>\n",
       "    </tr>\n",
       "    <tr>\n",
       "      <th>Date</th>\n",
       "      <th></th>\n",
       "      <th></th>\n",
       "      <th></th>\n",
       "      <th></th>\n",
       "      <th></th>\n",
       "      <th></th>\n",
       "      <th></th>\n",
       "      <th></th>\n",
       "      <th></th>\n",
       "      <th></th>\n",
       "      <th></th>\n",
       "      <th></th>\n",
       "      <th></th>\n",
       "      <th></th>\n",
       "      <th></th>\n",
       "      <th></th>\n",
       "      <th></th>\n",
       "      <th></th>\n",
       "      <th></th>\n",
       "      <th></th>\n",
       "      <th></th>\n",
       "    </tr>\n",
       "  </thead>\n",
       "  <tbody>\n",
       "    <tr>\n",
       "      <th>2018-09-11</th>\n",
       "      <td>RELIANCE</td>\n",
       "      <td>EQ</td>\n",
       "      <td>1255.85</td>\n",
       "      <td>1259.00</td>\n",
       "      <td>1268.40</td>\n",
       "      <td>1234.25</td>\n",
       "      <td>1236.50</td>\n",
       "      <td>1237.70</td>\n",
       "      <td>1248.31</td>\n",
       "      <td>10874768</td>\n",
       "      <td>...</td>\n",
       "      <td>11.024405</td>\n",
       "      <td>10.650861</td>\n",
       "      <td>15.693887</td>\n",
       "      <td>2.152421e+06</td>\n",
       "      <td>1.703729e+06</td>\n",
       "      <td>2.695837e+14</td>\n",
       "      <td>2.096337e+14</td>\n",
       "      <td>21260.223360</td>\n",
       "      <td>22986.787594</td>\n",
       "      <td>1267.277676</td>\n",
       "    </tr>\n",
       "    <tr>\n",
       "      <th>2018-09-12</th>\n",
       "      <td>RELIANCE</td>\n",
       "      <td>EQ</td>\n",
       "      <td>1237.70</td>\n",
       "      <td>1251.80</td>\n",
       "      <td>1258.70</td>\n",
       "      <td>1228.85</td>\n",
       "      <td>1251.10</td>\n",
       "      <td>1252.50</td>\n",
       "      <td>1243.62</td>\n",
       "      <td>8065553</td>\n",
       "      <td>...</td>\n",
       "      <td>10.937501</td>\n",
       "      <td>11.044946</td>\n",
       "      <td>15.535918</td>\n",
       "      <td>1.977576e+06</td>\n",
       "      <td>1.595637e+06</td>\n",
       "      <td>2.431640e+14</td>\n",
       "      <td>1.987816e+14</td>\n",
       "      <td>8544.182660</td>\n",
       "      <td>21854.224565</td>\n",
       "      <td>1258.663851</td>\n",
       "    </tr>\n",
       "    <tr>\n",
       "      <th>2018-09-14</th>\n",
       "      <td>RELIANCE</td>\n",
       "      <td>EQ</td>\n",
       "      <td>1252.50</td>\n",
       "      <td>1259.40</td>\n",
       "      <td>1275.60</td>\n",
       "      <td>1247.65</td>\n",
       "      <td>1252.55</td>\n",
       "      <td>1253.15</td>\n",
       "      <td>1258.40</td>\n",
       "      <td>7878583</td>\n",
       "      <td>...</td>\n",
       "      <td>10.351277</td>\n",
       "      <td>9.679532</td>\n",
       "      <td>16.327482</td>\n",
       "      <td>1.678480e+06</td>\n",
       "      <td>1.707217e+06</td>\n",
       "      <td>2.080805e+14</td>\n",
       "      <td>2.112014e+14</td>\n",
       "      <td>8125.043754</td>\n",
       "      <td>21045.318564</td>\n",
       "      <td>1259.008822</td>\n",
       "    </tr>\n",
       "    <tr>\n",
       "      <th>2018-09-17</th>\n",
       "      <td>RELIANCE</td>\n",
       "      <td>EQ</td>\n",
       "      <td>1253.15</td>\n",
       "      <td>1250.75</td>\n",
       "      <td>1250.75</td>\n",
       "      <td>1221.60</td>\n",
       "      <td>1224.00</td>\n",
       "      <td>1225.90</td>\n",
       "      <td>1232.59</td>\n",
       "      <td>6754086</td>\n",
       "      <td>...</td>\n",
       "      <td>10.848683</td>\n",
       "      <td>13.444980</td>\n",
       "      <td>13.144037</td>\n",
       "      <td>7.093891e+05</td>\n",
       "      <td>1.919544e+06</td>\n",
       "      <td>9.529018e+13</td>\n",
       "      <td>2.428741e+14</td>\n",
       "      <td>6560.904739</td>\n",
       "      <td>20715.577025</td>\n",
       "      <td>1248.563009</td>\n",
       "    </tr>\n",
       "    <tr>\n",
       "      <th>2018-09-18</th>\n",
       "      <td>RELIANCE</td>\n",
       "      <td>EQ</td>\n",
       "      <td>1225.90</td>\n",
       "      <td>1226.00</td>\n",
       "      <td>1239.40</td>\n",
       "      <td>1214.35</td>\n",
       "      <td>1215.40</td>\n",
       "      <td>1217.15</td>\n",
       "      <td>1228.49</td>\n",
       "      <td>7616412</td>\n",
       "      <td>...</td>\n",
       "      <td>15.445022</td>\n",
       "      <td>17.512162</td>\n",
       "      <td>15.313284</td>\n",
       "      <td>5.883357e+05</td>\n",
       "      <td>1.677475e+06</td>\n",
       "      <td>8.063694e+13</td>\n",
       "      <td>2.166799e+14</td>\n",
       "      <td>7143.967408</td>\n",
       "      <td>13672.068491</td>\n",
       "      <td>1237.424841</td>\n",
       "    </tr>\n",
       "    <tr>\n",
       "      <th>...</th>\n",
       "      <td>...</td>\n",
       "      <td>...</td>\n",
       "      <td>...</td>\n",
       "      <td>...</td>\n",
       "      <td>...</td>\n",
       "      <td>...</td>\n",
       "      <td>...</td>\n",
       "      <td>...</td>\n",
       "      <td>...</td>\n",
       "      <td>...</td>\n",
       "      <td>...</td>\n",
       "      <td>...</td>\n",
       "      <td>...</td>\n",
       "      <td>...</td>\n",
       "      <td>...</td>\n",
       "      <td>...</td>\n",
       "      <td>...</td>\n",
       "      <td>...</td>\n",
       "      <td>...</td>\n",
       "      <td>...</td>\n",
       "      <td>...</td>\n",
       "    </tr>\n",
       "    <tr>\n",
       "      <th>2021-04-26</th>\n",
       "      <td>RELIANCE</td>\n",
       "      <td>EQ</td>\n",
       "      <td>1904.35</td>\n",
       "      <td>1920.00</td>\n",
       "      <td>1962.00</td>\n",
       "      <td>1911.50</td>\n",
       "      <td>1938.00</td>\n",
       "      <td>1937.85</td>\n",
       "      <td>1941.32</td>\n",
       "      <td>9620785</td>\n",
       "      <td>...</td>\n",
       "      <td>22.018474</td>\n",
       "      <td>17.414960</td>\n",
       "      <td>17.101984</td>\n",
       "      <td>2.138278e+06</td>\n",
       "      <td>1.449626e+06</td>\n",
       "      <td>4.267576e+14</td>\n",
       "      <td>2.862386e+14</td>\n",
       "      <td>43872.398111</td>\n",
       "      <td>36381.523158</td>\n",
       "      <td>1871.013636</td>\n",
       "    </tr>\n",
       "    <tr>\n",
       "      <th>2021-04-27</th>\n",
       "      <td>RELIANCE</td>\n",
       "      <td>EQ</td>\n",
       "      <td>1937.85</td>\n",
       "      <td>1940.00</td>\n",
       "      <td>1997.20</td>\n",
       "      <td>1938.25</td>\n",
       "      <td>1990.00</td>\n",
       "      <td>1988.65</td>\n",
       "      <td>1978.64</td>\n",
       "      <td>9226547</td>\n",
       "      <td>...</td>\n",
       "      <td>31.488522</td>\n",
       "      <td>21.667160</td>\n",
       "      <td>22.109425</td>\n",
       "      <td>2.297464e+06</td>\n",
       "      <td>1.468908e+06</td>\n",
       "      <td>4.654518e+14</td>\n",
       "      <td>2.972074e+14</td>\n",
       "      <td>61894.148393</td>\n",
       "      <td>43635.378340</td>\n",
       "      <td>1897.365905</td>\n",
       "    </tr>\n",
       "    <tr>\n",
       "      <th>2021-04-28</th>\n",
       "      <td>RELIANCE</td>\n",
       "      <td>EQ</td>\n",
       "      <td>1988.65</td>\n",
       "      <td>1997.85</td>\n",
       "      <td>2008.00</td>\n",
       "      <td>1980.15</td>\n",
       "      <td>1993.15</td>\n",
       "      <td>1997.30</td>\n",
       "      <td>1997.60</td>\n",
       "      <td>7902002</td>\n",
       "      <td>...</td>\n",
       "      <td>40.883192</td>\n",
       "      <td>34.602493</td>\n",
       "      <td>36.067262</td>\n",
       "      <td>9.003757e+05</td>\n",
       "      <td>1.445945e+06</td>\n",
       "      <td>1.562369e+14</td>\n",
       "      <td>2.941591e+14</td>\n",
       "      <td>22698.939740</td>\n",
       "      <td>42677.962457</td>\n",
       "      <td>1907.550544</td>\n",
       "    </tr>\n",
       "    <tr>\n",
       "      <th>2021-04-29</th>\n",
       "      <td>RELIANCE</td>\n",
       "      <td>EQ</td>\n",
       "      <td>1997.30</td>\n",
       "      <td>2022.90</td>\n",
       "      <td>2044.50</td>\n",
       "      <td>2007.30</td>\n",
       "      <td>2020.00</td>\n",
       "      <td>2024.05</td>\n",
       "      <td>2024.21</td>\n",
       "      <td>8035915</td>\n",
       "      <td>...</td>\n",
       "      <td>51.639620</td>\n",
       "      <td>34.786575</td>\n",
       "      <td>49.144658</td>\n",
       "      <td>7.291498e+05</td>\n",
       "      <td>1.422615e+06</td>\n",
       "      <td>1.309963e+14</td>\n",
       "      <td>2.943765e+14</td>\n",
       "      <td>39122.090043</td>\n",
       "      <td>40243.908619</td>\n",
       "      <td>1924.672893</td>\n",
       "    </tr>\n",
       "    <tr>\n",
       "      <th>2021-04-30</th>\n",
       "      <td>RELIANCE</td>\n",
       "      <td>EQ</td>\n",
       "      <td>2024.05</td>\n",
       "      <td>2008.50</td>\n",
       "      <td>2036.00</td>\n",
       "      <td>1987.55</td>\n",
       "      <td>1995.90</td>\n",
       "      <td>1994.50</td>\n",
       "      <td>2010.20</td>\n",
       "      <td>9150974</td>\n",
       "      <td>...</td>\n",
       "      <td>52.704842</td>\n",
       "      <td>14.035342</td>\n",
       "      <td>50.295494</td>\n",
       "      <td>6.857138e+05</td>\n",
       "      <td>1.508039e+06</td>\n",
       "      <td>1.389098e+14</td>\n",
       "      <td>3.159922e+14</td>\n",
       "      <td>37823.801096</td>\n",
       "      <td>44185.473222</td>\n",
       "      <td>1954.420474</td>\n",
       "    </tr>\n",
       "  </tbody>\n",
       "</table>\n",
       "<p>650 rows × 35 columns</p>\n",
       "</div>"
      ],
      "text/plain": [
       "              Symbol Series  Prev Close     Open     High      Low     Last  \\\n",
       "Date                                                                          \n",
       "2018-09-11  RELIANCE     EQ     1255.85  1259.00  1268.40  1234.25  1236.50   \n",
       "2018-09-12  RELIANCE     EQ     1237.70  1251.80  1258.70  1228.85  1251.10   \n",
       "2018-09-14  RELIANCE     EQ     1252.50  1259.40  1275.60  1247.65  1252.55   \n",
       "2018-09-17  RELIANCE     EQ     1253.15  1250.75  1250.75  1221.60  1224.00   \n",
       "2018-09-18  RELIANCE     EQ     1225.90  1226.00  1239.40  1214.35  1215.40   \n",
       "...              ...    ...         ...      ...      ...      ...      ...   \n",
       "2021-04-26  RELIANCE     EQ     1904.35  1920.00  1962.00  1911.50  1938.00   \n",
       "2021-04-27  RELIANCE     EQ     1937.85  1940.00  1997.20  1938.25  1990.00   \n",
       "2021-04-28  RELIANCE     EQ     1988.65  1997.85  2008.00  1980.15  1993.15   \n",
       "2021-04-29  RELIANCE     EQ     1997.30  2022.90  2044.50  2007.30  2020.00   \n",
       "2021-04-30  RELIANCE     EQ     2024.05  2008.50  2036.00  1987.55  1995.90   \n",
       "\n",
       "              Close     VWAP    Volume  ...  Highrolling_std_7  \\\n",
       "Date                                    ...                      \n",
       "2018-09-11  1237.70  1248.31  10874768  ...          11.024405   \n",
       "2018-09-12  1252.50  1243.62   8065553  ...          10.937501   \n",
       "2018-09-14  1253.15  1258.40   7878583  ...          10.351277   \n",
       "2018-09-17  1225.90  1232.59   6754086  ...          10.848683   \n",
       "2018-09-18  1217.15  1228.49   7616412  ...          15.445022   \n",
       "...             ...      ...       ...  ...                ...   \n",
       "2021-04-26  1937.85  1941.32   9620785  ...          22.018474   \n",
       "2021-04-27  1988.65  1978.64   9226547  ...          31.488522   \n",
       "2021-04-28  1997.30  1997.60   7902002  ...          40.883192   \n",
       "2021-04-29  2024.05  2024.21   8035915  ...          51.639620   \n",
       "2021-04-30  1994.50  2010.20   9150974  ...          52.704842   \n",
       "\n",
       "            Lowrolling_std_3  Lowrolling_std_7  Volumerolling_std_3  \\\n",
       "Date                                                                  \n",
       "2018-09-11         10.650861         15.693887         2.152421e+06   \n",
       "2018-09-12         11.044946         15.535918         1.977576e+06   \n",
       "2018-09-14          9.679532         16.327482         1.678480e+06   \n",
       "2018-09-17         13.444980         13.144037         7.093891e+05   \n",
       "2018-09-18         17.512162         15.313284         5.883357e+05   \n",
       "...                      ...               ...                  ...   \n",
       "2021-04-26         17.414960         17.101984         2.138278e+06   \n",
       "2021-04-27         21.667160         22.109425         2.297464e+06   \n",
       "2021-04-28         34.602493         36.067262         9.003757e+05   \n",
       "2021-04-29         34.786575         49.144658         7.291498e+05   \n",
       "2021-04-30         14.035342         50.295494         6.857138e+05   \n",
       "\n",
       "            Volumerolling_std_7  Turnoverrolling_std_3  Turnoverrolling_std_7  \\\n",
       "Date                                                                            \n",
       "2018-09-11         1.703729e+06           2.695837e+14           2.096337e+14   \n",
       "2018-09-12         1.595637e+06           2.431640e+14           1.987816e+14   \n",
       "2018-09-14         1.707217e+06           2.080805e+14           2.112014e+14   \n",
       "2018-09-17         1.919544e+06           9.529018e+13           2.428741e+14   \n",
       "2018-09-18         1.677475e+06           8.063694e+13           2.166799e+14   \n",
       "...                         ...                    ...                    ...   \n",
       "2021-04-26         1.449626e+06           4.267576e+14           2.862386e+14   \n",
       "2021-04-27         1.468908e+06           4.654518e+14           2.972074e+14   \n",
       "2021-04-28         1.445945e+06           1.562369e+14           2.941591e+14   \n",
       "2021-04-29         1.422615e+06           1.309963e+14           2.943765e+14   \n",
       "2021-04-30         1.508039e+06           1.389098e+14           3.159922e+14   \n",
       "\n",
       "            Tradesrolling_std_3  Tradesrolling_std_7  Forecast_ARIMA  \n",
       "Date                                                                  \n",
       "2018-09-11         21260.223360         22986.787594     1267.277676  \n",
       "2018-09-12          8544.182660         21854.224565     1258.663851  \n",
       "2018-09-14          8125.043754         21045.318564     1259.008822  \n",
       "2018-09-17          6560.904739         20715.577025     1248.563009  \n",
       "2018-09-18          7143.967408         13672.068491     1237.424841  \n",
       "...                         ...                  ...             ...  \n",
       "2021-04-26         43872.398111         36381.523158     1871.013636  \n",
       "2021-04-27         61894.148393         43635.378340     1897.365905  \n",
       "2021-04-28         22698.939740         42677.962457     1907.550544  \n",
       "2021-04-29         39122.090043         40243.908619     1924.672893  \n",
       "2021-04-30         37823.801096         44185.473222     1954.420474  \n",
       "\n",
       "[650 rows x 35 columns]"
      ]
     },
     "execution_count": 35,
     "metadata": {},
     "output_type": "execute_result"
    }
   ],
   "source": [
    "forecast_df = pd.DataFrame(forecast, columns=['Forecast_ARIMA'])\n",
    "#test_data = test_data.reset_index() # reset index to allow assignment by index\n",
    "#test_data['Forecast_ARIMA'] = forecast_df['Forecast_ARIMA'] # assign values by index\n",
    "#test_data = test_data.set_index('Date') # set index back to 'Date'\n",
    "#test_data['Forecast_ARIMA']\n",
    "#test_data.index.values\n",
    "#forecast.index.values\n",
    "#forecast_df['Date'] = test_data['Date']\n",
    "forecast_df['Date'] = test_data.index\n",
    "\n",
    "#forecast_df = forecast_df.reset_index()\n",
    "forecast_df = forecast_df.set_index('Date')\n",
    "forecast_df\n",
    "#test_data['Forecast_ARIMA'] = forecast_df\n",
    "merged_df = pd.merge(test_data, forecast_df, 'outer', on='Date' )\n",
    "merged_df"
   ]
  },
  {
   "cell_type": "code",
   "execution_count": 36,
   "metadata": {},
   "outputs": [
    {
     "data": {
      "text/plain": [
       "<AxesSubplot:xlabel='Date'>"
      ]
     },
     "execution_count": 36,
     "metadata": {},
     "output_type": "execute_result"
    },
    {
     "data": {
      "image/png": "[encoded data removed]",
      "text/plain": [
       "<Figure size 432x288 with 1 Axes>"
      ]
     },
     "metadata": {
      "needs_background": "light"
     },
     "output_type": "display_data"
    }
   ],
   "source": [
    "forecast_df.iloc[:7].plot()"
   ]
  },
  {
   "cell_type": "code",
   "execution_count": 37,
   "metadata": {},
   "outputs": [
    {
     "data": {
      "text/plain": [
       "<AxesSubplot:xlabel='Date'>"
      ]
     },
     "execution_count": 37,
     "metadata": {},
     "output_type": "execute_result"
    },
    {
     "data": {
      "image/png": "[encoded data removed]",
      "text/plain": [
       "<Figure size 432x288 with 1 Axes>"
      ]
     },
     "metadata": {
      "needs_background": "light"
     },
     "output_type": "display_data"
    }
   ],
   "source": [
    "forecast_df.iloc[-30:].plot()   # Last 1 month price prediction"
   ]
  },
  {
   "cell_type": "code",
   "execution_count": 38,
   "metadata": {},
   "outputs": [
    {
     "data": {
      "text/plain": [
       "<AxesSubplot:xlabel='Date'>"
      ]
     },
     "execution_count": 38,
     "metadata": {},
     "output_type": "execute_result"
    },
    {
     "data": {
      "image/png": "[encoded data removed]",
      "text/plain": [
       "<Figure size 432x288 with 1 Axes>"
      ]
     },
     "metadata": {
      "needs_background": "light"
     },
     "output_type": "display_data"
    }
   ],
   "source": [
    "forecast_df.iloc[-7:].plot()"
   ]
  },
  {
   "cell_type": "code",
   "execution_count": null,
   "metadata": {},
   "outputs": [],
   "source": []
  },
  {
   "cell_type": "code",
   "execution_count": 39,
   "metadata": {},
   "outputs": [
    {
     "data": {
      "text/plain": [
       "<AxesSubplot:xlabel='Date'>"
      ]
     },
     "execution_count": 39,
     "metadata": {},
     "output_type": "execute_result"
    },
    {
     "data": {
      "image/png": "[encoded data removed]",
      "text/plain": [
       "<Figure size 432x288 with 1 Axes>"
      ]
     },
     "metadata": {
      "needs_background": "light"
     },
     "output_type": "display_data"
    }
   ],
   "source": [
    "forecast_df.iloc[-365:].plot()"
   ]
  },
  {
   "cell_type": "code",
   "execution_count": 40,
   "metadata": {},
   "outputs": [],
   "source": [
    "#test_data[['VWAP','Forecast_ARIMA']].plot(figsize=(14,7))"
   ]
  },
  {
   "cell_type": "code",
   "execution_count": 41,
   "metadata": {},
   "outputs": [
    {
     "data": {
      "text/plain": [
       "<AxesSubplot:xlabel='Date'>"
      ]
     },
     "execution_count": 41,
     "metadata": {},
     "output_type": "execute_result"
    },
    {
     "data": {
      "image/png": "[encoded data removed]",
      "text/plain": [
       "<Figure size 1008x504 with 1 Axes>"
      ]
     },
     "metadata": {
      "needs_background": "light"
     },
     "output_type": "display_data"
    }
   ],
   "source": [
    "merged_df[['VWAP','Forecast_ARIMA']].plot(figsize=(14,7))"
   ]
  },
  {
   "cell_type": "code",
   "execution_count": 42,
   "metadata": {},
   "outputs": [
    {
     "data": {
      "text/plain": [
       "<AxesSubplot:xlabel='Date'>"
      ]
     },
     "execution_count": 42,
     "metadata": {},
     "output_type": "execute_result"
    },
    {
     "data": {
      "image/png": "[encoded data removed]",
      "text/plain": [
       "<Figure size 432x288 with 1 Axes>"
      ]
     },
     "metadata": {
      "needs_background": "light"
     },
     "output_type": "display_data"
    }
   ],
   "source": [
    "merged_df[['VWAP','Forecast_ARIMA']].iloc[-30:].plot()"
   ]
  },
  {
   "cell_type": "markdown",
   "metadata": {},
   "source": [
    "#### The Auto ARIMA model seems to do a fairly good job in predicting the stock price"
   ]
  },
  {
   "cell_type": "code",
   "execution_count": null,
   "metadata": {},
   "outputs": [],
   "source": []
  },
  {
   "cell_type": "markdown",
   "metadata": {},
   "source": [
    "#### Checking Accuracy of our model"
   ]
  },
  {
   "cell_type": "code",
   "execution_count": 43,
   "metadata": {},
   "outputs": [],
   "source": [
    "from sklearn.metrics import mean_absolute_error, mean_squared_error"
   ]
  },
  {
   "cell_type": "code",
   "execution_count": 44,
   "metadata": {},
   "outputs": [
    {
     "data": {
      "text/plain": [
       "62.1287555605906"
      ]
     },
     "execution_count": 44,
     "metadata": {},
     "output_type": "execute_result"
    }
   ],
   "source": [
    "np.sqrt(mean_squared_error(merged_df['VWAP'],merged_df['Forecast_ARIMA']))"
   ]
  },
  {
   "cell_type": "code",
   "execution_count": 45,
   "metadata": {},
   "outputs": [],
   "source": [
    "#np.sqrt(mean_squared_error(test_data['VWAP'],test_data['Forecast_ARIMA']))"
   ]
  },
  {
   "cell_type": "code",
   "execution_count": 46,
   "metadata": {},
   "outputs": [],
   "source": [
    "#mean_absolute_error(test_data['VWAP'],test_data['Forecast_ARIMA'])"
   ]
  },
  {
   "cell_type": "code",
   "execution_count": 47,
   "metadata": {},
   "outputs": [
    {
     "data": {
      "text/plain": [
       "38.6107378389442"
      ]
     },
     "execution_count": 47,
     "metadata": {},
     "output_type": "execute_result"
    }
   ],
   "source": [
    "mean_absolute_error(merged_df['VWAP'],merged_df['Forecast_ARIMA'])"
   ]
  },
  {
   "cell_type": "code",
   "execution_count": null,
   "metadata": {},
   "outputs": [],
   "source": []
  },
  {
   "cell_type": "code",
   "execution_count": null,
   "metadata": {},
   "outputs": [],
   "source": []
  },
  {
   "cell_type": "code",
   "execution_count": null,
   "metadata": {},
   "outputs": [],
   "source": []
  },
  {
   "cell_type": "code",
   "execution_count": null,
   "metadata": {},
   "outputs": [],
   "source": []
  },
  {
   "cell_type": "code",
   "execution_count": null,
   "metadata": {},
   "outputs": [],
   "source": []
  },
  {
   "cell_type": "code",
   "execution_count": null,
   "metadata": {},
   "outputs": [],
   "source": []
  }
 ],
 "metadata": {
  "kernelspec": {
   "display_name": "Python 3 (ipykernel)",
   "language": "python",
   "name": "python3"
  },
  "language_info": {
   "codemirror_mode": {
    "name": "ipython",
    "version": 3
   },
   "file_extension": ".py",
   "mimetype": "text/x-python",
   "name": "python",
   "nbconvert_exporter": "python",
   "pygments_lexer": "ipython3",
   "version": "3.8.8"
  }
 },
 "nbformat": 4,
 "nbformat_minor": 2
}
